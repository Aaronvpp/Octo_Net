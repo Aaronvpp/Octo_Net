{
 "cells": [
  {
   "cell_type": "code",
   "execution_count": 1,
   "metadata": {},
   "outputs": [],
   "source": [
    "from PolarH10 import PolarH10\n",
    "from bleak import BleakScanner\n",
    "import numpy as np\n",
    "from matplotlib import pyplot as plt\n",
    "import asyncio\n",
    "from tqdm import tqdm\n",
    "# from datetime import datetime\n",
    "# import os\n",
    "# import sys\n",
    "# sys.path.insert(0, os.path.abspath(os.path.join(os.path.dirname(__file__), '../..')))\n",
    "\n",
    "# from time_utils import *\n",
    "# from save_timestamp_data import *\n",
    "# from log_utils import *\n",
    "# import configparser\n",
    "# import json\n",
    "\n"
   ]
  },
  {
   "cell_type": "code",
   "execution_count": 2,
   "metadata": {},
   "outputs": [],
   "source": [
    "devices = await BleakScanner.discover()"
   ]
  },
  {
   "cell_type": "code",
   "execution_count": 3,
   "metadata": {},
   "outputs": [
    {
     "data": {
      "text/plain": [
       "[BLEDevice(07:8A:B5:66:C2:06, 07-8A-B5-66-C2-06),\n",
       " BLEDevice(56:FD:BA:34:73:4B, 56-FD-BA-34-73-4B),\n",
       " BLEDevice(35:73:93:BA:42:02, 35-73-93-BA-42-02),\n",
       " BLEDevice(CC:D4:B8:B2:48:90, Polar H10 C567652F)]"
      ]
     },
     "execution_count": 3,
     "metadata": {},
     "output_type": "execute_result"
    }
   ],
   "source": [
    "devices"
   ]
  },
  {
   "cell_type": "code",
   "execution_count": 4,
   "metadata": {},
   "outputs": [
    {
     "name": "stdout",
     "output_type": "stream",
     "text": [
      "Find Polar H10!\n",
      "Model Number: \u001b[94mH10\u0000\u001b[0m\n",
      "Manufacturer Name: \u001b[94mPolar Electro Oy\u0000\u001b[0m\n",
      "Serial Number: \u001b[94mC567652F\u0000\u001b[0m\n",
      "Address: \u001b[94mCC:D4:B8:B2:48:90\u001b[0m\n",
      "Battery Level: \u001b[94m100%\u001b[0m\n",
      "Firmware Revision: \u001b[94m5.0.0\u0000\u001b[0m\n",
      "Hardware Revision: \u001b[94m01234567.00\u0000\u001b[0m\n",
      "Software Revision: \u001b[94m3.2.0\u0000\u001b[0m\n",
      "Collecting ECG data...\n",
      "Collecting HR data...\n"
     ]
    },
    {
     "name": "stderr",
     "output_type": "stream",
     "text": [
      "Recording...: 100%|██████████| 30/30 [00:30<00:00,  1.00s/it]"
     ]
    },
    {
     "name": "stdout",
     "output_type": "stream",
     "text": [
      "Stopping ECG data...\n",
      "Stopping HR data...\n"
     ]
    },
    {
     "name": "stderr",
     "output_type": "stream",
     "text": [
      "\n"
     ]
    }
   ],
   "source": [
    "record_len = 30\n",
    "for device in devices:\n",
    "    if device.name is not None and \"Polar\" in device.name:\n",
    "        print(\"Find Polar H10!\")\n",
    "        polar_device = PolarH10(device)\n",
    "        await polar_device.connect()\n",
    "        try:\n",
    "            await polar_device.get_device_info()\n",
    "            await polar_device.print_device_info()\n",
    "            await polar_device.start_ecg_stream()\n",
    "            await polar_device.start_hr_stream()\n",
    "            for i in tqdm(range(record_len), desc='Recording...'):\n",
    "                await asyncio.sleep(1)\n",
    "            await polar_device.stop_ecg_stream()\n",
    "            await polar_device.stop_hr_stream()\n",
    "\n",
    "            # acc_data = polar_device.get_acc_data()\n",
    "            ecg_data = polar_device.get_ecg_data()\n",
    "            # ibi_data = polar_device.get_ibi_data()\n",
    "            hr_data = polar_device.get_hr_data()\n",
    "        finally:\n",
    "            await polar_device.disconnect()\n"
   ]
  },
  {
   "cell_type": "code",
   "execution_count": null,
   "metadata": {},
   "outputs": [],
   "source": []
  },
  {
   "cell_type": "code",
   "execution_count": 5,
   "metadata": {},
   "outputs": [],
   "source": [
    "# ecg_data['times'][-1] - ecg_data['times'][0]"
   ]
  },
  {
   "cell_type": "code",
   "execution_count": 6,
   "metadata": {},
   "outputs": [],
   "source": [
    "# hr_data['times'][-1] - hr_data['times'][0]"
   ]
  },
  {
   "cell_type": "code",
   "execution_count": 7,
   "metadata": {},
   "outputs": [
    {
     "name": "stdout",
     "output_type": "stream",
     "text": [
      "{'times': [], 'values': []}\n"
     ]
    }
   ],
   "source": [
    "print(ecg_data)"
   ]
  },
  {
   "cell_type": "code",
   "execution_count": 8,
   "metadata": {},
   "outputs": [
    {
     "data": {
      "text/plain": [
       "21"
      ]
     },
     "execution_count": 8,
     "metadata": {},
     "output_type": "execute_result"
    }
   ],
   "source": [
    "len(hr_data['times'])"
   ]
  },
  {
   "cell_type": "code",
   "execution_count": 9,
   "metadata": {},
   "outputs": [
    {
     "data": {
      "text/plain": [
       "[<matplotlib.lines.Line2D at 0x7f52ebc8c790>]"
      ]
     },
     "execution_count": 9,
     "metadata": {},
     "output_type": "execute_result"
    },
    {
     "data": {
      "image/png": "[encoded data removed]",
      "text/plain": [
       "<Figure size 640x480 with 1 Axes>"
      ]
     },
     "metadata": {},
     "output_type": "display_data"
    }
   ],
   "source": [
    "plt.plot(hr_data[\"times\"],hr_data[\"values\"])"
   ]
  },
  {
   "cell_type": "code",
   "execution_count": 10,
   "metadata": {},
   "outputs": [
    {
     "data": {
      "text/plain": [
       "[<matplotlib.lines.Line2D at 0x7f52eb2f3430>]"
      ]
     },
     "execution_count": 10,
     "metadata": {},
     "output_type": "execute_result"
    },
    {
     "data": {
      "image/png": "[encoded data removed]",
      "text/plain": [
       "<Figure size 640x480 with 1 Axes>"
      ]
     },
     "metadata": {},
     "output_type": "display_data"
    }
   ],
   "source": [
    "plt.plot(ecg_data[\"times\"][:],ecg_data[\"values\"][:])"
   ]
  },
  {
   "cell_type": "code",
   "execution_count": 11,
   "metadata": {},
   "outputs": [
    {
     "data": {
      "text/plain": [
       "0"
      ]
     },
     "execution_count": 11,
     "metadata": {},
     "output_type": "execute_result"
    }
   ],
   "source": [
    "len(ecg_data[\"values\"])"
   ]
  },
  {
   "cell_type": "code",
   "execution_count": 12,
   "metadata": {},
   "outputs": [
    {
     "data": {
      "text/plain": [
       "[<matplotlib.lines.Line2D at 0x7f52e9162f80>]"
      ]
     },
     "execution_count": 12,
     "metadata": {},
     "output_type": "execute_result"
    },
    {
     "data": {
      "image/png": "[encoded data removed]",
      "text/plain": [
       "<Figure size 640x480 with 1 Axes>"
      ]
     },
     "metadata": {},
     "output_type": "display_data"
    }
   ],
   "source": [
    "plt.plot(ecg_data['values'][:400])"
   ]
  },
  {
   "cell_type": "code",
   "execution_count": null,
   "metadata": {},
   "outputs": [],
   "source": []
  }
 ],
 "metadata": {
  "kernelspec": {
   "display_name": "vah",
   "language": "python",
   "name": "python3"
  },
  "language_info": {
   "codemirror_mode": {
    "name": "ipython",
    "version": 3
   },
   "file_extension": ".py",
   "mimetype": "text/x-python",
   "name": "python",
   "nbconvert_exporter": "python",
   "pygments_lexer": "ipython3",
   "version": "3.10.11"
  },
  "orig_nbformat": 4
 },
 "nbformat": 4,
 "nbformat_minor": 2
}
